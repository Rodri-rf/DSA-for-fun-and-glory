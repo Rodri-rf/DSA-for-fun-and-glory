{
  "cells": [
    {
      "cell_type": "markdown",
      "metadata": {
        "id": "view-in-github",
        "colab_type": "text"
      },
      "source": [
        "<a href=\"https://colab.research.google.com/github/Rodri-rf/Algorithm-design-and-analysis/blob/main/CSC_373_EC2.ipynb\" target=\"_parent\"><img src=\"https://colab.research.google.com/assets/colab-badge.svg\" alt=\"Open In Colab\"/></a>"
      ]
    },
    {
      "cell_type": "markdown",
      "source": [
        "# CSC 373 EC 2 - DP\n",
        "In this notebook you'll implement some DP algorithms that we studied in lecture. There are details on how to submit your work later in the notebook. Your screenshots should be submitted with HW2.\n",
        "\n",
        "Something to watch out for - in lecture most things are 1-indexed but in Python things are 0-indexed.\n",
        "\n",
        "Good luck!"
      ],
      "metadata": {
        "id": "34d2bwBHFlmX"
      },
      "id": "34d2bwBHFlmX"
    },
    {
      "cell_type": "code",
      "execution_count": 1,
      "id": "3d732218-efef-4bd7-9f27-c4c2fe59628c",
      "metadata": {
        "id": "3d732218-efef-4bd7-9f27-c4c2fe59628c",
        "outputId": "8b1f9fb9-67f8-45c9-dbdc-cc01e1672d7c",
        "colab": {
          "base_uri": "https://localhost:8080/"
        }
      },
      "outputs": [
        {
          "output_type": "stream",
          "name": "stdout",
          "text": [
            "--2024-03-01 02:08:50--  https://archives.bulbagarden.net/media/upload/1/1f/Hoenn_RSE_Map.png\n",
            "Resolving archives.bulbagarden.net (archives.bulbagarden.net)... 172.64.192.10, 172.64.193.10, 2606:4700:e6::ac40:c10a, ...\n",
            "Connecting to archives.bulbagarden.net (archives.bulbagarden.net)|172.64.192.10|:443... connected.\n",
            "HTTP request sent, awaiting response... 200 OK\n",
            "Length: 8409 (8.2K) [image/png]\n",
            "Saving to: ‘Hoenn_RSE_Map.png’\n",
            "\n",
            "\rHoenn_RSE_Map.png     0%[                    ]       0  --.-KB/s               \rHoenn_RSE_Map.png   100%[===================>]   8.21K  --.-KB/s    in 0s      \n",
            "\n",
            "2024-03-01 02:08:50 (62.3 MB/s) - ‘Hoenn_RSE_Map.png’ saved [8409/8409]\n",
            "\n"
          ]
        }
      ],
      "source": [
        "# @title Run this cell to set up some helper functions\n",
        "\n",
        "import networkx as nx\n",
        "import graphviz\n",
        "import random\n",
        "import itertools\n",
        "import timeit\n",
        "import plotly.graph_objects as go\n",
        "import plotly.express as px\n",
        "import plotly.io as pio\n",
        "import numpy as np\n",
        "from dataclasses import dataclass\n",
        "from itertools import chain, combinations\n",
        "\n",
        "\n",
        "pio.templates.default = \"plotly_white\"\n",
        "\n",
        "from PIL import Image\n",
        "from typing import Tuple\n",
        "\n",
        "Town = dict[str, Tuple[int, int]]\n",
        "Region = list[Town]\n",
        "\n",
        "hoenn : Region =  {\n",
        "    \"Littleroot\": (44,107)\n",
        "    , \"Oldale\": (44, 91)\n",
        "    , \"Petalburg\": (19, 91)\n",
        "    , \"Rustboro\": (12, 62)\n",
        "    , \"Verdanturf\": (44, 67)\n",
        "    , \"Mauville\": (80, 66)\n",
        "    , \"Slateport\": (75, 103)\n",
        "    , \"Lavaridge\": (52, 43)\n",
        "    , \"Fallarbor\": (35, 19)\n",
        "    , \"Fortree\": (108, 19)\n",
        "    , \"Lilycove\": (163,43)\n",
        "    , \"Mossdeep\": (208, 59)\n",
        "    , \"Sootopolis\": (180, 75)\n",
        "    , \"EverGrande\": (228, 87)\n",
        "    , \"Dewford\": (27, 131)\n",
        "    , \"Pacificdog\": (148, 99)\n",
        "}\n",
        "\n",
        "def random_region():\n",
        "    region = dict()\n",
        "    for k in hoenn.keys():\n",
        "        region[k] = (random.randint(30, 230), random.randint(30,138))\n",
        "    return region\n",
        "\n",
        "\n",
        "def unzip_region(region: Region):\n",
        "    names = list(region.keys())\n",
        "    xs, ys = zip(*(region.values()))\n",
        "    return names, xs, ys\n",
        "\n",
        "\n",
        "! wget https://archives.bulbagarden.net/media/upload/1/1f/Hoenn_RSE_Map.png\n",
        "\n",
        "HOENN_ARRAY = np.asarray(Image.open(\"Hoenn_RSE_Map.png\"))\n",
        "HOENN_ARRAY_TRANSLUCENT = HOENN_ARRAY.copy()\n",
        "HOENN_ARRAY_TRANSLUCENT[:,:,3] = 125\n",
        "BLANK = np.ones(HOENN_ARRAY.shape)\n",
        "\n",
        "def add_edge(fig, x1, y1, x2, y2, w):\n",
        "  fig.add_trace(\n",
        "    go.Scatter(x=[x1, x2], y=[y1,y2], mode=\"lines\", line={\"width\":1, \"color\":\"black\"})\n",
        "  )\n",
        "  fig.add_annotation(x=(x1 + x2)/2, y=(y1 + y2)/2,\n",
        "            text=str(int(w)), # round down to int so the plot is readable\n",
        "            showarrow=False,\n",
        "            xshift=16,\n",
        "            yshift=16,\n",
        "            font={\"color\":\"black\", \"size\":16}\n",
        "  )\n",
        "  fig.update_layout(showlegend=False)\n",
        "  return fig\n",
        "\n",
        "def plot_graph(g, region, no_bg=False):\n",
        "    if no_bg:\n",
        "        fig = px.imshow(np.zeros(HOENN_ARRAY.shape))\n",
        "    else:\n",
        "        fig = px.imshow(HOENN_ARRAY)\n",
        "    names, xs, ys = unzip_region(region)\n",
        "    fig.add_trace(\n",
        "        go.Scatter(x=xs, y=ys, mode=\"markers\", marker={\"size\":12, \"color\":\"black\"}, hovertext=names, name=\"\")\n",
        "    )\n",
        "    fig.update_layout(showlegend=False, height=600, width=700)\n",
        "    for u, v in g.edges():\n",
        "        x1, y1 = region[u]\n",
        "        x2, y2 = region[v]\n",
        "        add_edge(fig, x1, y1, x2, y2, g.edges[(u, v)]['weight'])\n",
        "    return fig\n",
        "\n",
        "def euclidean_distance(x1, y1, x2, y2):\n",
        "  return (abs(x1-x2)**2 + abs(y1-y2)**2)**0.5\n",
        "\n",
        "def get_graph(region):\n",
        "    G = nx.Graph()\n",
        "    G.add_nodes_from(region.keys())\n",
        "    edge_list = []\n",
        "    for (k1, (x1, y1)) in region.items():\n",
        "        for (k2, (x2, y2)) in region.items():\n",
        "            if k1!=k2:\n",
        "                weight = euclidean_distance(x1,y1,x2,y2)\n",
        "                edge_list.append((k1, k2, weight))\n",
        "    G.add_weighted_edges_from(edge_list)\n",
        "    return G\n",
        "\n",
        "def plot_cycle(g, region, C, no_bg=False):\n",
        "    edges = zip(C, C[1:])\n",
        "    cycle = g.edge_subgraph(edges)\n",
        "    f = plot_graph(cycle, region, no_bg)\n",
        "    print(sum(x[\"weight\"] for _,_,x in cycle.edges.data(True)))\n",
        "    return f\n",
        "\n",
        "def time(function, input, number):\n",
        "    return timeit.timeit(lambda: function(*input), number=number)\n",
        "\n",
        "\n",
        "def plot_weighted_intervals_with_colors(intervals, colors):\n",
        "    fig = go.Figure()\n",
        "    for i in range(len(intervals)):\n",
        "        s = intervals[i].start\n",
        "        f = intervals[i].end\n",
        "        w = intervals[i].weight\n",
        "        color = colors[i]\n",
        "        fig.add_trace(go.Scatter(\n",
        "            x=[s, (s + f)/2, f],\n",
        "            y=[i, i, i],\n",
        "            mode=\"lines+text\",\n",
        "            text=[\"\", str(w), \"\"],\n",
        "            line=dict(color=color,width=5),\n",
        "            textposition=\"top center\"\n",
        "        ))\n",
        "    fig.update_layout(\n",
        "        showlegend=False,\n",
        "        height=450\n",
        "    )\n",
        "    return fig\n",
        "\n",
        "def plot_selected(intervals, selected):\n",
        "    colors = [\"green\" if i in selected else \"black\"  for i in range(len(intervals))]\n",
        "    return plot_weighted_intervals_with_colors(intervals, colors)\n",
        "\n",
        "def plot_intervals(intervals):\n",
        "    colors = [\"black\"] * len(intervals)\n",
        "    return plot_weighted_intervals_with_colors(intervals, colors)\n",
        "\n",
        "sort_earliest_finish = lambda intervals : sorted(intervals, key=lambda y: y.end)\n",
        "\n",
        "@dataclass\n",
        "class Interval:\n",
        "    start: float\n",
        "    end: float\n",
        "    weight: float\n",
        "def get_random_weighted_intervals(n):\n",
        "    return [\n",
        "        Interval(*sorted([random.uniform(0, 1), random.uniform(0, 1)]), random.randint(1,100)) for _ in range(n)\n",
        "    ]\n",
        "\n",
        "@dataclass\n",
        "class Item:\n",
        "    v: int\n",
        "    w: int\n",
        "\n",
        "def random_items(n):\n",
        "    return [\n",
        "        Item(random.randint(1, 10), random.randint(1,10)) for _ in range(n)\n",
        "    ]\n",
        "\n",
        "def random_items_large_weight(n):\n",
        "    return [\n",
        "        Item(random.randint(1, 100), random.randint(1,100000)) for _ in range(n)\n",
        "    ]\n",
        "\n",
        "def conflicts(x, y):\n",
        "    return y.start <= x.start < y.end or y.start <= x.end < y.end or x.start <= y.start < x.end or x.start <= y.end < x.end\n",
        "\n",
        "def compatible(x, y):\n",
        "    return not conflicts(x, y)\n"
      ]
    },
    {
      "cell_type": "markdown",
      "id": "dba50997-c828-4187-8e73-e590f4745295",
      "metadata": {
        "jp-MarkdownHeadingCollapsed": true,
        "id": "dba50997-c828-4187-8e73-e590f4745295"
      },
      "source": [
        "# Practice: Weighted Interval Scheduling\n",
        "(Not for credit)"
      ]
    },
    {
      "cell_type": "code",
      "execution_count": null,
      "id": "75a8e5fc-2c96-454a-9b99-8cef0bfac340",
      "metadata": {
        "id": "75a8e5fc-2c96-454a-9b99-8cef0bfac340"
      },
      "outputs": [],
      "source": [
        "@dataclass\n",
        "class Interval:\n",
        "    start: float\n",
        "    end: float\n",
        "    weight: float\n",
        "\n",
        "intervals = get_random_weighted_intervals(10)\n",
        "plot_intervals(intervals)"
      ]
    },
    {
      "cell_type": "code",
      "execution_count": null,
      "id": "6c6f499e-3b87-43bf-97de-595862ceddb4",
      "metadata": {
        "id": "6c6f499e-3b87-43bf-97de-595862ceddb4"
      },
      "outputs": [],
      "source": [
        "intervals = sort_earliest_finish(intervals)\n",
        "plot_intervals(intervals)"
      ]
    },
    {
      "cell_type": "markdown",
      "source": [
        "You can plot selected intervals in green using the following function - in this example I'm selecting the first and second intervals to highlight. You can use this function to test your code later!"
      ],
      "metadata": {
        "id": "bmrWe01GAszV"
      },
      "id": "bmrWe01GAszV"
    },
    {
      "cell_type": "code",
      "source": [
        "plot_selected(intervals, [1,2])"
      ],
      "metadata": {
        "id": "jLzE-hf8AgiZ"
      },
      "id": "jLzE-hf8AgiZ",
      "execution_count": null,
      "outputs": []
    },
    {
      "cell_type": "markdown",
      "source": [
        "Optional practice: Implement the weighted interval scheduling DP algorithm. Start by implementing an algorithm that only gives the optimal value."
      ],
      "metadata": {
        "id": "mbD81aotA5Ib"
      },
      "id": "mbD81aotA5Ib"
    },
    {
      "cell_type": "code",
      "execution_count": null,
      "id": "882e7848-ec06-42e4-b61a-1f8a81055dfc",
      "metadata": {
        "id": "882e7848-ec06-42e4-b61a-1f8a81055dfc"
      },
      "outputs": [],
      "source": [
        "def get_p(intervals):\n",
        "  pass"
      ]
    },
    {
      "cell_type": "code",
      "execution_count": null,
      "id": "037fef2b-b557-4b5f-ab8c-dd8305c13a1e",
      "metadata": {
        "id": "037fef2b-b557-4b5f-ab8c-dd8305c13a1e"
      },
      "outputs": [],
      "source": [
        "def weighted_interval_scheduling_top_down(intervals):\n",
        "  pass\n",
        "\n",
        "def weighted_interval_scheduling_bottom_up(intervals):\n",
        "  pass"
      ]
    },
    {
      "cell_type": "code",
      "execution_count": null,
      "id": "5c9680d7-6154-4d3d-aa3c-386f4896e03b",
      "metadata": {
        "id": "5c9680d7-6154-4d3d-aa3c-386f4896e03b"
      },
      "outputs": [],
      "source": [
        "print(weighted_interval_scheduling_top_down(intervals))\n",
        "print(weighted_interval_scheduling_bottom_up(intervals))"
      ]
    },
    {
      "cell_type": "markdown",
      "source": [
        "Now, extend the previous to return the optimal solution as well. You should return a tuple `(val, selected)` where `val` is the optimal value and `selected` is a list of indices of the intervals attaining the the optimal value.\n"
      ],
      "metadata": {
        "id": "plo3u8ffBMAd"
      },
      "id": "plo3u8ffBMAd"
    },
    {
      "cell_type": "code",
      "execution_count": null,
      "id": "9e89e889-02a3-442b-b7e0-e411574fc7e3",
      "metadata": {
        "id": "9e89e889-02a3-442b-b7e0-e411574fc7e3"
      },
      "outputs": [],
      "source": [
        "def weighted_interval_scheduling_top_down_return_opt(intervals):\n",
        "  pass\n",
        "\n",
        "\n",
        "def weighted_interval_scheduling_bottom_up_return_opt(intervals):\n",
        "  pass\n",
        "\n"
      ]
    },
    {
      "cell_type": "markdown",
      "id": "d09efbbb-65bb-4736-ac94-10622cd5e3cc",
      "metadata": {
        "jp-MarkdownHeadingCollapsed": true,
        "id": "d09efbbb-65bb-4736-ac94-10622cd5e3cc"
      },
      "source": [
        "# TSP"
      ]
    },
    {
      "cell_type": "markdown",
      "source": [
        "In this section, we'll be solving the TSP problem in the Hoenn region using the DP described in class."
      ],
      "metadata": {
        "id": "iUzdWxFGC7H2"
      },
      "id": "iUzdWxFGC7H2"
    },
    {
      "cell_type": "code",
      "source": [
        "hoenn"
      ],
      "metadata": {
        "id": "Lj4x6VeTC_-E"
      },
      "id": "Lj4x6VeTC_-E",
      "execution_count": null,
      "outputs": []
    },
    {
      "cell_type": "markdown",
      "source": [
        "We've provided a helper function `plot_graph` that takes a `nx.Graph`, and a location dictionary and plots the graph. G is empty in the cell below, so the function displays a graph with no edges."
      ],
      "metadata": {
        "id": "vkCz5ggzDM_e"
      },
      "id": "vkCz5ggzDM_e"
    },
    {
      "cell_type": "code",
      "execution_count": null,
      "id": "faee4197-94e9-4b09-baf5-9b015e7bba24",
      "metadata": {
        "id": "faee4197-94e9-4b09-baf5-9b015e7bba24"
      },
      "outputs": [],
      "source": [
        "G = nx.Graph()\n",
        "plot_graph(G, hoenn)"
      ]
    },
    {
      "cell_type": "markdown",
      "source": [
        "To make our lives simpler - let's ignore all the roads and oceans, and imagine we are a bird (a Taillow if you will). That is, we can get to any city from any other city by flying a straight line between the two cities. Below, we have added these lines along with their corresponding distances."
      ],
      "metadata": {
        "id": "bsAcA3GYDlMi"
      },
      "id": "bsAcA3GYDlMi"
    },
    {
      "cell_type": "code",
      "execution_count": null,
      "id": "9583ffb9-7b70-4ffd-9ce1-5ee9492ee902",
      "metadata": {
        "id": "9583ffb9-7b70-4ffd-9ce1-5ee9492ee902"
      },
      "outputs": [],
      "source": [
        "G = get_graph(hoenn) # fills in all edges\n",
        "plot_graph(G, hoenn)"
      ]
    },
    {
      "cell_type": "markdown",
      "source": [
        "Solving the TSP problem on this graph corresponds to finding the fastest way to visit all the cities in Hoenn and returning to your starting city.\n",
        "\n",
        "Here's a brute force solution. Note that the first line of the solution truncates the list of cities to consider (otherwise, it would be too slow)."
      ],
      "metadata": {
        "id": "6ufz1yWoEKGj"
      },
      "id": "6ufz1yWoEKGj"
    },
    {
      "cell_type": "code",
      "execution_count": null,
      "id": "afbbf7e8-3321-4838-abc1-0adfbf5c0389",
      "metadata": {
        "id": "afbbf7e8-3321-4838-abc1-0adfbf5c0389"
      },
      "outputs": [],
      "source": [
        "def brute_force_tsp(G):\n",
        "    nodes = list(G.nodes())[:11] # TOGGLE THIS\n",
        "    start = nodes[0]\n",
        "    def cost(perm):\n",
        "        edges = zip(perm, perm[1:])\n",
        "        return sum( G.edges[e][\"weight\"]  for e in edges )\n",
        "\n",
        "    return min(\n",
        "        map(\n",
        "            lambda x: [start] + list(x) + [start],\n",
        "            itertools.permutations(nodes[1:])\n",
        "        )\n",
        "        , key = cost\n",
        "    )\n",
        "\n",
        "C = brute_force_tsp(G)\n",
        "print(C)"
      ]
    },
    {
      "cell_type": "markdown",
      "source": [
        "Once you have a cycle, you can plot it like below:"
      ],
      "metadata": {
        "id": "-al5Sx_REic7"
      },
      "id": "-al5Sx_REic7"
    },
    {
      "cell_type": "code",
      "execution_count": null,
      "id": "3e8918a3-1380-4a24-ad9f-591921c6ed1d",
      "metadata": {
        "id": "3e8918a3-1380-4a24-ad9f-591921c6ed1d"
      },
      "outputs": [],
      "source": [
        "plot_cycle(G, hoenn, C)"
      ]
    },
    {
      "cell_type": "markdown",
      "source": [
        "Notice how some cities were excluded from the cycle because of the truncation step. If you played around with the truncation (i.e. perhaps changed 11 to 15), then you might see that this brute force solution will crashes instance. Let's see if a DP approach can do better...\n",
        "\n",
        "## Task\n",
        "\n",
        "Implement the DP algorithm for TSP from lecture. Your function should return both the optimal value and the cycle corresponding to the optimal value."
      ],
      "metadata": {
        "id": "nk3mVWk-El1D"
      },
      "id": "nk3mVWk-El1D"
    },
    {
      "cell_type": "code",
      "execution_count": null,
      "id": "3053fc17-c5b2-4a80-918c-33d7011b7276",
      "metadata": {
        "id": "3053fc17-c5b2-4a80-918c-33d7011b7276"
      },
      "outputs": [],
      "source": [
        "# You might find the following function useful - it returns the set of all subsets of a given iterable...\n",
        "def powerset(iterable):\n",
        "  # Reference https://stackoverflow.com/questions/1482308/how-to-get-all-subsets-of-a-set-powerset\n",
        "    xs = list(iterable)\n",
        "    return chain.from_iterable(combinations(xs,n) for n in range(len(xs)+1))\n",
        "\n",
        "def dp_tsp(G):\n",
        "  pass\n"
      ]
    },
    {
      "cell_type": "code",
      "execution_count": null,
      "id": "5a1ed379-715a-4d86-81a8-43ea18101a96",
      "metadata": {
        "id": "5a1ed379-715a-4d86-81a8-43ea18101a96"
      },
      "outputs": [],
      "source": [
        "val, C = dp_tsp(G)\n",
        "C"
      ]
    },
    {
      "cell_type": "code",
      "execution_count": null,
      "id": "e9ac2d8a-4b38-4098-bc8f-d1813799adf3",
      "metadata": {
        "id": "e9ac2d8a-4b38-4098-bc8f-d1813799adf3"
      },
      "outputs": [],
      "source": [
        "plot_cycle(G, hoenn, C)"
      ]
    },
    {
      "cell_type": "markdown",
      "source": [
        "Run the next cell to shuffle the locations of the cities. Run your TSP algorithm on the shuffled city and plot the it!"
      ],
      "metadata": {
        "id": "6VxssyrdFF1G"
      },
      "id": "6VxssyrdFF1G"
    },
    {
      "cell_type": "code",
      "execution_count": null,
      "id": "12504f9c-c19b-4cee-8bf1-3fdc3452810e",
      "metadata": {
        "id": "12504f9c-c19b-4cee-8bf1-3fdc3452810e"
      },
      "outputs": [],
      "source": [
        "random.seed(a=\"replace with your groups UTorIDs\", version=2)\n",
        "my_region = random_region()\n",
        "plot_graph(nx.Graph(), my_region, no_bg=True)"
      ]
    },
    {
      "cell_type": "code",
      "execution_count": null,
      "id": "56a38d71-f574-4890-bd0b-b4fd285c9e0a",
      "metadata": {
        "id": "56a38d71-f574-4890-bd0b-b4fd285c9e0a"
      },
      "outputs": [],
      "source": [
        "G = get_graph(my_region)\n",
        "val, C = dp_tsp(G)\n",
        "plot_cycle(G, my_region, C, no_bg=True)"
      ]
    },
    {
      "cell_type": "markdown",
      "id": "312de4f3-1ef0-4a1f-8d0b-f8ce833bac1a",
      "metadata": {
        "id": "312de4f3-1ef0-4a1f-8d0b-f8ce833bac1a"
      },
      "source": [
        "## How to submit\n",
        "Upload screenshots of the previous two cells (the one that generates a new region, and the one that prints the optimal hamiltonian path)."
      ]
    },
    {
      "cell_type": "markdown",
      "id": "9edaa42c-cdbb-46d1-ba7f-8d57a26f00c8",
      "metadata": {
        "jp-MarkdownHeadingCollapsed": true,
        "id": "9edaa42c-cdbb-46d1-ba7f-8d57a26f00c8"
      },
      "source": [
        "# Knapsack   "
      ]
    },
    {
      "cell_type": "code",
      "execution_count": null,
      "id": "f573184f-9f4a-4096-935a-4dfd630bf125",
      "metadata": {
        "id": "f573184f-9f4a-4096-935a-4dfd630bf125"
      },
      "outputs": [],
      "source": [
        "@dataclass\n",
        "class Item:\n",
        "    v: int\n",
        "    w: int\n",
        "\n",
        "items = random_items(10)\n",
        "capacity = 25\n",
        "items"
      ]
    },
    {
      "cell_type": "markdown",
      "source": [
        "Here's a brute force implementation for the Knapsack problem that considers all possible subset of items."
      ],
      "metadata": {
        "id": "-BNdZzYCBfgh"
      },
      "id": "-BNdZzYCBfgh"
    },
    {
      "cell_type": "code",
      "execution_count": null,
      "id": "34779b64-3f11-45c9-8b30-f55674f02ccc",
      "metadata": {
        "id": "34779b64-3f11-45c9-8b30-f55674f02ccc"
      },
      "outputs": [],
      "source": [
        "\n",
        "\n",
        "def knapsack_brute_force(items, capacity):\n",
        "    opt = max(\n",
        "        powerset(items), key =\n",
        "        lambda x: -1 if sum(y.w for y in x) > capacity else sum(y.v for y in x)\n",
        "    )\n",
        "    val = sum(y.v for y in opt)\n",
        "    return val, opt\n",
        "\n",
        "knapsack_brute_force(items, capacity)"
      ]
    },
    {
      "cell_type": "markdown",
      "source": [
        "## Task\n",
        "\n",
        "Implement the DP algorithm for the knapsack problem (the one that runs in time $O(nW)$). You can choose which implementation to use (bottom-up or top-down)"
      ],
      "metadata": {
        "id": "0DpOJqHEBsKK"
      },
      "id": "0DpOJqHEBsKK"
    },
    {
      "cell_type": "code",
      "execution_count": null,
      "id": "366d97c7-fa8b-4a2a-9df4-82035edcd023",
      "metadata": {
        "id": "366d97c7-fa8b-4a2a-9df4-82035edcd023"
      },
      "outputs": [],
      "source": [
        "def knapsack_return_opt(items, capacity):\n",
        "  pass\n",
        "\n",
        "knapsack_return_opt(items, capacity)"
      ]
    },
    {
      "cell_type": "markdown",
      "source": [
        "What happens when the capacity of your backpack is large?"
      ],
      "metadata": {
        "id": "fNU0TCgSMcqS"
      },
      "id": "fNU0TCgSMcqS"
    },
    {
      "cell_type": "code",
      "execution_count": null,
      "id": "5ee8a792-ce27-40f5-be03-701eb6537da3",
      "metadata": {
        "id": "5ee8a792-ce27-40f5-be03-701eb6537da3"
      },
      "outputs": [],
      "source": [
        "random.seed(a=\"replace with your groups UTorIDs\", version=2)\n",
        "N = 100\n",
        "itemsL = random_items_large_weight(N)\n",
        "capacityL = int((N * 50000)*0.7)\n",
        "print(capacityL)"
      ]
    },
    {
      "cell_type": "markdown",
      "id": "6953e852-a116-4730-9f27-0daa41d30978",
      "metadata": {
        "id": "6953e852-a116-4730-9f27-0daa41d30978"
      },
      "source": [
        "Warning: The next cell should crash!"
      ]
    },
    {
      "cell_type": "code",
      "execution_count": null,
      "id": "a8aa5fbb-6e02-40da-b164-6aeb84ce1d32",
      "metadata": {
        "id": "a8aa5fbb-6e02-40da-b164-6aeb84ce1d32"
      },
      "outputs": [],
      "source": [
        "#print(knapsack_return_opt(itemsL, capacityL))"
      ]
    },
    {
      "cell_type": "markdown",
      "id": "8e558ad9-3a93-48e0-9764-15a30b5e9f7c",
      "metadata": {
        "id": "8e558ad9-3a93-48e0-9764-15a30b5e9f7c"
      },
      "source": [
        "As we noted in lecture - there is another DP that works better when the total value of all the items under consideration are small. In this example, here is how the capacity of the backpack compares to the weight."
      ]
    },
    {
      "cell_type": "code",
      "execution_count": null,
      "id": "720f3bc4-e7ef-41ed-8207-10935ecaa068",
      "metadata": {
        "id": "720f3bc4-e7ef-41ed-8207-10935ecaa068"
      },
      "outputs": [],
      "source": [
        "print(\"Capacity\", capacityL)\n",
        "print(\"Total Value\", sum(x.v for x in items))"
      ]
    },
    {
      "cell_type": "markdown",
      "id": "3ff0ed6d-bb7c-49c2-ae99-56e15f1ffcd3",
      "metadata": {
        "id": "3ff0ed6d-bb7c-49c2-ae99-56e15f1ffcd3"
      },
      "source": [
        "Implement the other DP - the one that runs in time $O(nV)$."
      ]
    },
    {
      "cell_type": "code",
      "execution_count": null,
      "id": "4f044270-9cae-4dd0-80f0-03902015de8e",
      "metadata": {
        "id": "4f044270-9cae-4dd0-80f0-03902015de8e"
      },
      "outputs": [],
      "source": [
        "def knapsack_return_opt_small_values(items, capacity):\n",
        "  pass\n"
      ]
    },
    {
      "cell_type": "code",
      "execution_count": null,
      "id": "e9df4671-ee36-4ff0-b760-5a404b2d6251",
      "metadata": {
        "id": "e9df4671-ee36-4ff0-b760-5a404b2d6251"
      },
      "outputs": [],
      "source": [
        "print(knapsack_return_opt_small_values(itemsL, capacityL)[0])"
      ]
    },
    {
      "cell_type": "markdown",
      "id": "a02957d2-322e-4353-b61d-95425474cb03",
      "metadata": {
        "id": "a02957d2-322e-4353-b61d-95425474cb03"
      },
      "source": [
        "## How to submit\n",
        "Upload the following\n",
        "* a screenshot of the cell that was used to generate itemsL (including the seed your team used).\n",
        "* a screenshot of the cell above this one. (the one that prints the optimal value)"
      ]
    },
    {
      "cell_type": "code",
      "source": [],
      "metadata": {
        "id": "BvFiH_RuIhAJ"
      },
      "id": "BvFiH_RuIhAJ",
      "execution_count": null,
      "outputs": []
    }
  ],
  "metadata": {
    "kernelspec": {
      "display_name": "Python 3 (ipykernel)",
      "language": "python",
      "name": "python3"
    },
    "language_info": {
      "codemirror_mode": {
        "name": "ipython",
        "version": 3
      },
      "file_extension": ".py",
      "mimetype": "text/x-python",
      "name": "python",
      "nbconvert_exporter": "python",
      "pygments_lexer": "ipython3",
      "version": "3.12.0"
    },
    "colab": {
      "provenance": [],
      "collapsed_sections": [
        "dba50997-c828-4187-8e73-e590f4745295",
        "d09efbbb-65bb-4736-ac94-10622cd5e3cc"
      ],
      "include_colab_link": true
    }
  },
  "nbformat": 4,
  "nbformat_minor": 5
}